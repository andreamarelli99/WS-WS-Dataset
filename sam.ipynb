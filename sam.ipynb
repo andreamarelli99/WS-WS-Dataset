{
 "cells": [
  {
   "cell_type": "code",
   "execution_count": 61,
   "metadata": {},
   "outputs": [],
   "source": [
    "import os\n",
    "# if using Apple MPS, fall back to CPU for unsupported ops\n",
    "os.environ[\"PYTORCH_ENABLE_MPS_FALLBACK\"] = \"1\"\n",
    "import numpy as np\n",
    "import matplotlib.pyplot as plt\n",
    "from PIL import Image\n",
    "import torch\n",
    "import pickle\n",
    "from ultralytics import SAM\n",
    "\n"
   ]
  },
  {
   "cell_type": "code",
   "execution_count": 67,
   "metadata": {},
   "outputs": [],
   "source": [
    "image = Image.open('./dataset/original/test1.jpg')\n",
    "image = np.array(image.convert(\"RGB\"))"
   ]
  },
  {
   "cell_type": "code",
   "execution_count": 69,
   "metadata": {},
   "outputs": [
    {
     "name": "stdout",
     "output_type": "stream",
     "text": [
      "\n",
      "image 1/1 /home/leonardo/Seruso_dataset/dataset/original/test1.jpg: 1024x1024 1 0, 1 1, 1 2, 1 3, 1 4, 1 5, 1 6, 188351.1ms\n",
      "Speed: 6.7ms preprocess, 188351.1ms inference, 2.3ms postprocess per image at shape (1, 3, 1024, 1024)\n"
     ]
    }
   ],
   "source": [
    "model = SAM(\"sam2.1_b.pt\")\n",
    "masks = model(\"./dataset/original/test1.jpg\")"
   ]
  },
  {
   "cell_type": "code",
   "execution_count": null,
   "metadata": {},
   "outputs": [
    {
     "data": {
      "text/plain": [
       "array([[False, False, False, ..., False, False, False],\n",
       "       [False, False, False, ..., False, False, False],\n",
       "       [False, False, False, ..., False, False, False],\n",
       "       ...,\n",
       "       [False, False, False, ..., False, False, False],\n",
       "       [False, False, False, ..., False, False, False],\n",
       "       [False, False, False, ..., False, False, False]], shape=(251, 352))"
      ]
     },
     "execution_count": 42,
     "metadata": {},
     "output_type": "execute_result"
    }
   ],
   "source": [
    "masks[0].masks.data[0].cpu().numpy()\n"
   ]
  },
  {
   "cell_type": "code",
   "execution_count": 80,
   "metadata": {},
   "outputs": [],
   "source": [
    "# change the parent directory path where the SAM masks will be saved\n",
    "par_dir_SAM_masks = \"dataset\"\n",
    "dir_SAM_masks = os.path.join(par_dir_SAM_masks, \"SAM_masks\")\n",
    "if(not os.path.exists(dir_SAM_masks)):\n",
    "    os.makedirs(dir_SAM_masks)\n",
    "\n",
    "np.savez_compressed(os.path.join(dir_SAM_masks, \"test1\"), bool_array=masks[0].masks.data.cpu().numpy())\n",
    "# saving process\n",
    "if(not os.path.exists(os.path.join(dir_SAM_masks, \"test1\"))):\n",
    "    os.makedirs(os.path.join(dir_SAM_masks, \"test1\"))\n",
    "for index, mask in enumerate(masks[0].masks.data):\n",
    "    tmp = Image.fromarray(mask.cpu().numpy())\n",
    "    tmp.save(os.path.join(dir_SAM_masks, \"test1\", str(index)+'.png'))\n",
    "    "
   ]
  },
  {
   "cell_type": "code",
   "execution_count": 79,
   "metadata": {},
   "outputs": [
    {
     "data": {
      "image/png": "[encoded data removed]",
      "text/plain": [
       "<Figure size 400x400 with 1 Axes>"
      ]
     },
     "metadata": {},
     "output_type": "display_data"
    }
   ],
   "source": [
    "plt.figure(figsize=(4, 4))\n",
    "plt.imshow(masks[0].masks.data[6].cpu().numpy(), cmap=\"grey\")\n",
    "plt.axis('off')\n",
    "plt.show()"
   ]
  },
  {
   "cell_type": "code",
   "execution_count": 9,
   "metadata": {},
   "outputs": [],
   "source": [
    "predictor = SAM2ImagePredictor.from_pretrained(\"facebook/sam2.1-hiera-tiny\")\n",
    "\n",
    "with torch.inference_mode(), torch.autocast(\"cuda\", dtype=torch.bfloat16):\n",
    "    predictor.set_image(image)\n",
    "    masks, _, _ = predictor.predict()"
   ]
  },
  {
   "cell_type": "code",
   "execution_count": 19,
   "metadata": {},
   "outputs": [
    {
     "data": {
      "image/png": "[encoded data removed]",
      "text/plain": [
       "<Figure size 400x400 with 1 Axes>"
      ]
     },
     "metadata": {},
     "output_type": "display_data"
    }
   ],
   "source": [
    "masks = masks.reshape([image.shape[0],image.shape[1],image.shape[2]])\n",
    "plt.figure(figsize=(4, 4))\n",
    "plt.imshow(masks)\n",
    "plt.axis('off')\n",
    "plt.show()"
   ]
  }
 ],
 "metadata": {
  "kernelspec": {
   "display_name": ".venv",
   "language": "python",
   "name": "python3"
  },
  "language_info": {
   "codemirror_mode": {
    "name": "ipython",
    "version": 3
   },
   "file_extension": ".py",
   "mimetype": "text/x-python",
   "name": "python",
   "nbconvert_exporter": "python",
   "pygments_lexer": "ipython3",
   "version": "3.10.12"
  }
 },
 "nbformat": 4,
 "nbformat_minor": 2
}
